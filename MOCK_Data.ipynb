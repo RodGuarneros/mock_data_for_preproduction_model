{
 "cells": [
  {
   "cell_type": "markdown",
   "id": "fe576c51-5ce0-4c85-abdc-f2d16252cbac",
   "metadata": {
    "id": "fe576c51-5ce0-4c85-abdc-f2d16252cbac",
    "tags": []
   },
   "source": [
    "# Mock Data \n",
    "\n",
    "### Recomendations\n",
    "\n",
    "* Define and report the use of these data sets withon the work team\n",
    "* Document the cprocess of creation, use of libraries and publish inernally\n",
    "* Inform the security teams so taht there are no misinterpretations about oir data sources, as they will have the same data model\n",
    "\n",
    "### Model Data in this case\n",
    "\n",
    "- count\n",
    "- name\n",
    "- address\n",
    "- color\n",
    "- phone\n",
    "- nif\n",
    "- ssn\n",
    "- cp\n",
    "- count_bank\n",
    "\n",
    "### Objective\n",
    "\n",
    "Create a csv file with 5,000,000 recods, similar to the following example: \n",
    "\n",
    "\"2\", \"Rodrigo Guarneros Gutiérrez\", \"963726901J\", \"Calle de Pedraza 98 Apt. 5 Chapultepec, 04454\", \"cp: 98777\", \"+ 9557586909\", \"cuenta_bank: ES345322913459933922\"\n",
    "\n",
    "### To meet this objective\n",
    "\n",
    "Python as a programming language and the library \"Faker\".\n",
    "\n",
    "!pip install Faker\n"
   ]
  },
  {
   "cell_type": "code",
   "execution_count": 1,
   "id": "6ffe0abc-70c4-47da-8fff-e61958f14ca7",
   "metadata": {},
   "outputs": [
    {
     "name": "stdout",
     "output_type": "stream",
     "text": [
      "Collecting Faker\n",
      "  Downloading Faker-19.3.1-py3-none-any.whl (1.7 MB)\n",
      "     ---------------------------------------- 1.7/1.7 MB 4.2 MB/s eta 0:00:00\n",
      "Requirement already satisfied: python-dateutil>=2.4 in c:\\users\\rodri\\appdata\\roaming\\jupyterlab-desktop\\jlab_server\\lib\\site-packages (from Faker) (2.8.2)\n",
      "Requirement already satisfied: typing-extensions>=3.10.0.1 in c:\\users\\rodri\\appdata\\roaming\\jupyterlab-desktop\\jlab_server\\lib\\site-packages (from Faker) (4.4.0)\n",
      "Requirement already satisfied: six>=1.5 in c:\\users\\rodri\\appdata\\roaming\\jupyterlab-desktop\\jlab_server\\lib\\site-packages (from python-dateutil>=2.4->Faker) (1.16.0)\n",
      "Installing collected packages: Faker\n",
      "Successfully installed Faker-19.3.1\n"
     ]
    }
   ],
   "source": [
    "!pip install Faker"
   ]
  },
  {
   "cell_type": "code",
   "execution_count": 4,
   "id": "cab40d00-3b0f-41d7-8dc1-0d375a118eb6",
   "metadata": {},
   "outputs": [
    {
     "name": "stdout",
     "output_type": "stream",
     "text": [
      "Alejandro Lorenzo Calvet\n",
      "Cuesta Régulo Batalla 86\n",
      "Ávila, 50735\n",
      "Ipsa perspiciatis rem ab error autem ipsa. Doloribus esse eos alias libero laboriosam. Tenetur dolorum labore quasi dicta incidunt ad voluptate.\n",
      "Nam voluptatem officia. Laboriosam quibusdam soluta.\n"
     ]
    }
   ],
   "source": [
    "from faker import Faker\n",
    "fake = Faker('es_ES')\n",
    "print(fake.name())\n",
    "print(fake.address())\n",
    "print(fake.text())"
   ]
  },
  {
   "cell_type": "code",
   "execution_count": 14,
   "id": "f3a672a8-477a-4856-aa21-19f5da1db4fc",
   "metadata": {},
   "outputs": [
    {
     "name": "stdout",
     "output_type": "stream",
     "text": [
      "Se ha creado el archivo: database_2023-08-27.csv\n"
     ]
    }
   ],
   "source": [
    "\n",
    "from faker import Faker\n",
    "import csv\n",
    "import datetime\n",
    "\n",
    "fake = Faker('es_ES')\n",
    "total = 200\n",
    "today = datetime.date.today()\n",
    "output = \"database_\" + str(today) + \".csv\"\n",
    "data = []\n",
    "\n",
    "for _ in range(total):\n",
    "    name = fake.name()\n",
    "    address = fake.address()\n",
    "    color = fake.color()\n",
    "    phone = fake.phone_number()\n",
    "    nif = fake.doi()\n",
    "    cp = \"cp: \" + fake.postcode()\n",
    "    count_bank = \"count_bank: \" + fake.iban()\n",
    "    data.append([name, nif, address, cp, color, phone, nif, count_bank])\n",
    "\n",
    "try:\n",
    "    with open(output, 'w', newline='', encoding='Latin1') as salidacsv:\n",
    "        cabecera = ['name', 'nif', 'address', 'cp', 'color', 'phone', 'ssn', 'count_bank']\n",
    "        salida = csv.writer(salidacsv)\n",
    "        salida.writerow(cabecera)\n",
    "        salida.writerows(data)\n",
    "    print(f'Se ha creado el archivo: {output}')\n",
    "\n",
    "except Exception as e:\n",
    "    print(f\"Error: {e}\")\n"
   ]
  },
  {
   "cell_type": "code",
   "execution_count": null,
   "id": "4874575b-37ab-45b4-8f1b-65da99a95c6e",
   "metadata": {},
   "outputs": [],
   "source": []
  },
  {
   "cell_type": "markdown",
   "id": "47110061-0453-4c7f-b70d-7abb3d88f7c7",
   "metadata": {},
   "source": []
  }
 ],
 "metadata": {
  "colab": {
   "provenance": []
  },
  "kernelspec": {
   "display_name": "Python 3 (ipykernel)",
   "language": "python",
   "name": "python3"
  },
  "language_info": {
   "codemirror_mode": {
    "name": "ipython",
    "version": 3
   },
   "file_extension": ".py",
   "mimetype": "text/x-python",
   "name": "python",
   "nbconvert_exporter": "python",
   "pygments_lexer": "ipython3",
   "version": "3.8.15"
  }
 },
 "nbformat": 4,
 "nbformat_minor": 5
}
